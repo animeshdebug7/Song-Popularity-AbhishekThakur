{
 "cells": [
  {
   "cell_type": "code",
   "execution_count": 2,
   "metadata": {},
   "outputs": [
    {
     "name": "stdout",
     "output_type": "stream",
     "text": [
      "C:\\Users\\anime\\OneDrive\\Desktop\\Song Popularity Prediction\n"
     ]
    }
   ],
   "source": [
    "cd C:\\Users\\anime\\OneDrive\\Desktop\\Song Popularity Prediction"
   ]
  },
  {
   "cell_type": "code",
   "execution_count": 3,
   "metadata": {},
   "outputs": [],
   "source": [
    "import pandas as pd"
   ]
  },
  {
   "cell_type": "code",
   "execution_count": 4,
   "metadata": {},
   "outputs": [
    {
     "name": "stdout",
     "output_type": "stream",
     "text": [
      "Requirement already satisfied: pandas_profiling in c:\\users\\anime\\anaconda3\\lib\\site-packages (3.1.0)\n",
      "Requirement already satisfied: numpy>=1.16.0 in c:\\users\\anime\\anaconda3\\lib\\site-packages (from pandas_profiling) (1.19.5)\n",
      "Requirement already satisfied: htmlmin>=0.1.12 in c:\\users\\anime\\anaconda3\\lib\\site-packages (from pandas_profiling) (0.1.12)\n",
      "Requirement already satisfied: tangled-up-in-unicode==0.1.0 in c:\\users\\anime\\anaconda3\\lib\\site-packages (from pandas_profiling) (0.1.0)\n",
      "Requirement already satisfied: scipy>=1.4.1 in c:\\users\\anime\\anaconda3\\lib\\site-packages (from pandas_profiling) (1.5.0)\n",
      "Requirement already satisfied: pandas!=1.0.0,!=1.0.1,!=1.0.2,!=1.1.0,>=0.25.3 in c:\\users\\anime\\anaconda3\\lib\\site-packages (from pandas_profiling) (1.0.5)\n",
      "Requirement already satisfied: PyYAML>=5.0.0 in c:\\users\\anime\\anaconda3\\lib\\site-packages (from pandas_profiling) (5.3.1)\n",
      "Requirement already satisfied: requests>=2.24.0 in c:\\users\\anime\\anaconda3\\lib\\site-packages (from pandas_profiling) (2.24.0)\n",
      "Requirement already satisfied: tqdm>=4.48.2 in c:\\users\\anime\\anaconda3\\lib\\site-packages (from pandas_profiling) (4.62.3)\n",
      "Requirement already satisfied: matplotlib>=3.2.0 in c:\\users\\anime\\anaconda3\\lib\\site-packages (from pandas_profiling) (3.2.2)\n",
      "Requirement already satisfied: multimethod>=1.4 in c:\\users\\anime\\anaconda3\\lib\\site-packages (from pandas_profiling) (1.7)\n",
      "Requirement already satisfied: jinja2>=2.11.1 in c:\\users\\anime\\anaconda3\\lib\\site-packages (from pandas_profiling) (2.11.2)\n",
      "Requirement already satisfied: joblib~=1.0.1 in c:\\users\\anime\\anaconda3\\lib\\site-packages (from pandas_profiling) (1.0.1)\n",
      "Requirement already satisfied: visions[type_image_path]==0.7.4 in c:\\users\\anime\\anaconda3\\lib\\site-packages (from pandas_profiling) (0.7.4)\n",
      "Requirement already satisfied: missingno>=0.4.2 in c:\\users\\anime\\anaconda3\\lib\\site-packages (from pandas_profiling) (0.5.0)\n",
      "Requirement already satisfied: phik>=0.11.1 in c:\\users\\anime\\anaconda3\\lib\\site-packages (from pandas_profiling) (0.12.0)\n",
      "Requirement already satisfied: markupsafe~=2.0.1 in c:\\users\\anime\\anaconda3\\lib\\site-packages (from pandas_profiling) (2.0.1)\n",
      "Requirement already satisfied: seaborn>=0.10.1 in c:\\users\\anime\\anaconda3\\lib\\site-packages (from pandas_profiling) (0.10.1)\n",
      "Requirement already satisfied: pydantic>=1.8.1 in c:\\users\\anime\\anaconda3\\lib\\site-packages (from pandas_profiling) (1.8.2)\n",
      "Requirement already satisfied: python-dateutil>=2.6.1 in c:\\users\\anime\\anaconda3\\lib\\site-packages (from pandas!=1.0.0,!=1.0.1,!=1.0.2,!=1.1.0,>=0.25.3->pandas_profiling) (2.8.1)\n",
      "Requirement already satisfied: pytz>=2017.2 in c:\\users\\anime\\anaconda3\\lib\\site-packages (from pandas!=1.0.0,!=1.0.1,!=1.0.2,!=1.1.0,>=0.25.3->pandas_profiling) (2020.1)\n",
      "Requirement already satisfied: certifi>=2017.4.17 in c:\\users\\anime\\anaconda3\\lib\\site-packages (from requests>=2.24.0->pandas_profiling) (2020.6.20)\n",
      "Requirement already satisfied: urllib3!=1.25.0,!=1.25.1,<1.26,>=1.21.1 in c:\\users\\anime\\anaconda3\\lib\\site-packages (from requests>=2.24.0->pandas_profiling) (1.25.9)\n",
      "Requirement already satisfied: idna<3,>=2.5 in c:\\users\\anime\\anaconda3\\lib\\site-packages (from requests>=2.24.0->pandas_profiling) (2.10)\n",
      "Requirement already satisfied: chardet<4,>=3.0.2 in c:\\users\\anime\\anaconda3\\lib\\site-packages (from requests>=2.24.0->pandas_profiling) (3.0.4)\n",
      "Requirement already satisfied: colorama; platform_system == \"Windows\" in c:\\users\\anime\\anaconda3\\lib\\site-packages (from tqdm>=4.48.2->pandas_profiling) (0.4.3)\n",
      "Requirement already satisfied: kiwisolver>=1.0.1 in c:\\users\\anime\\anaconda3\\lib\\site-packages (from matplotlib>=3.2.0->pandas_profiling) (1.2.0)\n",
      "Requirement already satisfied: cycler>=0.10 in c:\\users\\anime\\anaconda3\\lib\\site-packages (from matplotlib>=3.2.0->pandas_profiling) (0.10.0)\n",
      "Requirement already satisfied: pyparsing!=2.0.4,!=2.1.2,!=2.1.6,>=2.0.1 in c:\\users\\anime\\anaconda3\\lib\\site-packages (from matplotlib>=3.2.0->pandas_profiling) (2.4.7)\n",
      "Requirement already satisfied: networkx>=2.4 in c:\\users\\anime\\anaconda3\\lib\\site-packages (from visions[type_image_path]==0.7.4->pandas_profiling) (2.4)\n",
      "Requirement already satisfied: attrs>=19.3.0 in c:\\users\\anime\\anaconda3\\lib\\site-packages (from visions[type_image_path]==0.7.4->pandas_profiling) (19.3.0)\n",
      "Requirement already satisfied: Pillow; extra == \"type_image_path\" in c:\\users\\anime\\anaconda3\\lib\\site-packages (from visions[type_image_path]==0.7.4->pandas_profiling) (8.3.1)\n",
      "Requirement already satisfied: imagehash; extra == \"type_image_path\" in c:\\users\\anime\\anaconda3\\lib\\site-packages (from visions[type_image_path]==0.7.4->pandas_profiling) (4.2.1)\n",
      "Requirement already satisfied: typing-extensions>=3.7.4.3 in c:\\users\\anime\\anaconda3\\lib\\site-packages (from pydantic>=1.8.1->pandas_profiling) (4.0.1)\n",
      "Requirement already satisfied: six>=1.5 in c:\\users\\anime\\anaconda3\\lib\\site-packages (from python-dateutil>=2.6.1->pandas!=1.0.0,!=1.0.1,!=1.0.2,!=1.1.0,>=0.25.3->pandas_profiling) (1.15.0)\n",
      "Requirement already satisfied: decorator>=4.3.0 in c:\\users\\anime\\anaconda3\\lib\\site-packages (from networkx>=2.4->visions[type_image_path]==0.7.4->pandas_profiling) (4.4.2)\n",
      "Requirement already satisfied: PyWavelets in c:\\users\\anime\\anaconda3\\lib\\site-packages (from imagehash; extra == \"type_image_path\"->visions[type_image_path]==0.7.4->pandas_profiling) (1.1.1)\n"
     ]
    }
   ],
   "source": [
    "!pip install pandas_profiling"
   ]
  },
  {
   "cell_type": "code",
   "execution_count": 5,
   "metadata": {},
   "outputs": [],
   "source": [
    "df = pd.read_csv(\"train.csv\")"
   ]
  },
  {
   "cell_type": "code",
   "execution_count": 6,
   "metadata": {},
   "outputs": [
    {
     "data": {
      "text/html": [
       "<div>\n",
       "<style scoped>\n",
       "    .dataframe tbody tr th:only-of-type {\n",
       "        vertical-align: middle;\n",
       "    }\n",
       "\n",
       "    .dataframe tbody tr th {\n",
       "        vertical-align: top;\n",
       "    }\n",
       "\n",
       "    .dataframe thead th {\n",
       "        text-align: right;\n",
       "    }\n",
       "</style>\n",
       "<table border=\"1\" class=\"dataframe\">\n",
       "  <thead>\n",
       "    <tr style=\"text-align: right;\">\n",
       "      <th></th>\n",
       "      <th>id</th>\n",
       "      <th>song_duration_ms</th>\n",
       "      <th>acousticness</th>\n",
       "      <th>danceability</th>\n",
       "      <th>energy</th>\n",
       "      <th>instrumentalness</th>\n",
       "      <th>key</th>\n",
       "      <th>liveness</th>\n",
       "      <th>loudness</th>\n",
       "      <th>audio_mode</th>\n",
       "      <th>speechiness</th>\n",
       "      <th>tempo</th>\n",
       "      <th>time_signature</th>\n",
       "      <th>audio_valence</th>\n",
       "      <th>song_popularity</th>\n",
       "    </tr>\n",
       "  </thead>\n",
       "  <tbody>\n",
       "    <tr>\n",
       "      <th>0</th>\n",
       "      <td>0</td>\n",
       "      <td>212990.0</td>\n",
       "      <td>0.642286</td>\n",
       "      <td>0.856520</td>\n",
       "      <td>0.707073</td>\n",
       "      <td>0.002001</td>\n",
       "      <td>10.0</td>\n",
       "      <td>NaN</td>\n",
       "      <td>-5.619088</td>\n",
       "      <td>0</td>\n",
       "      <td>0.082570</td>\n",
       "      <td>158.386236</td>\n",
       "      <td>4</td>\n",
       "      <td>0.734642</td>\n",
       "      <td>0</td>\n",
       "    </tr>\n",
       "    <tr>\n",
       "      <th>1</th>\n",
       "      <td>1</td>\n",
       "      <td>NaN</td>\n",
       "      <td>0.054866</td>\n",
       "      <td>0.733289</td>\n",
       "      <td>0.835545</td>\n",
       "      <td>0.000996</td>\n",
       "      <td>8.0</td>\n",
       "      <td>0.436428</td>\n",
       "      <td>-5.236965</td>\n",
       "      <td>1</td>\n",
       "      <td>0.127358</td>\n",
       "      <td>102.752988</td>\n",
       "      <td>3</td>\n",
       "      <td>0.711531</td>\n",
       "      <td>1</td>\n",
       "    </tr>\n",
       "    <tr>\n",
       "      <th>2</th>\n",
       "      <td>2</td>\n",
       "      <td>193213.0</td>\n",
       "      <td>NaN</td>\n",
       "      <td>0.188387</td>\n",
       "      <td>0.783524</td>\n",
       "      <td>-0.002694</td>\n",
       "      <td>5.0</td>\n",
       "      <td>0.170499</td>\n",
       "      <td>-4.951759</td>\n",
       "      <td>0</td>\n",
       "      <td>0.052282</td>\n",
       "      <td>178.685791</td>\n",
       "      <td>3</td>\n",
       "      <td>0.425536</td>\n",
       "      <td>0</td>\n",
       "    </tr>\n",
       "    <tr>\n",
       "      <th>3</th>\n",
       "      <td>3</td>\n",
       "      <td>249893.0</td>\n",
       "      <td>0.488660</td>\n",
       "      <td>0.585234</td>\n",
       "      <td>0.552685</td>\n",
       "      <td>0.000608</td>\n",
       "      <td>0.0</td>\n",
       "      <td>0.094805</td>\n",
       "      <td>-7.893694</td>\n",
       "      <td>0</td>\n",
       "      <td>0.035618</td>\n",
       "      <td>128.715630</td>\n",
       "      <td>3</td>\n",
       "      <td>0.453597</td>\n",
       "      <td>0</td>\n",
       "    </tr>\n",
       "    <tr>\n",
       "      <th>4</th>\n",
       "      <td>4</td>\n",
       "      <td>165969.0</td>\n",
       "      <td>0.493017</td>\n",
       "      <td>NaN</td>\n",
       "      <td>0.740982</td>\n",
       "      <td>0.002033</td>\n",
       "      <td>10.0</td>\n",
       "      <td>0.094891</td>\n",
       "      <td>-2.684095</td>\n",
       "      <td>0</td>\n",
       "      <td>0.050746</td>\n",
       "      <td>121.928157</td>\n",
       "      <td>4</td>\n",
       "      <td>0.741311</td>\n",
       "      <td>0</td>\n",
       "    </tr>\n",
       "    <tr>\n",
       "      <th>5</th>\n",
       "      <td>5</td>\n",
       "      <td>188891.0</td>\n",
       "      <td>0.035655</td>\n",
       "      <td>0.825919</td>\n",
       "      <td>0.804528</td>\n",
       "      <td>-0.000005</td>\n",
       "      <td>4.0</td>\n",
       "      <td>0.120758</td>\n",
       "      <td>-6.122926</td>\n",
       "      <td>0</td>\n",
       "      <td>0.039012</td>\n",
       "      <td>115.679128</td>\n",
       "      <td>4</td>\n",
       "      <td>0.709408</td>\n",
       "      <td>0</td>\n",
       "    </tr>\n",
       "    <tr>\n",
       "      <th>6</th>\n",
       "      <td>6</td>\n",
       "      <td>161061.0</td>\n",
       "      <td>0.081743</td>\n",
       "      <td>0.673588</td>\n",
       "      <td>0.880181</td>\n",
       "      <td>0.000327</td>\n",
       "      <td>0.0</td>\n",
       "      <td>0.535411</td>\n",
       "      <td>-2.909607</td>\n",
       "      <td>1</td>\n",
       "      <td>0.030902</td>\n",
       "      <td>98.046205</td>\n",
       "      <td>4</td>\n",
       "      <td>0.982729</td>\n",
       "      <td>0</td>\n",
       "    </tr>\n",
       "    <tr>\n",
       "      <th>7</th>\n",
       "      <td>7</td>\n",
       "      <td>196202.0</td>\n",
       "      <td>0.259747</td>\n",
       "      <td>0.813214</td>\n",
       "      <td>0.554385</td>\n",
       "      <td>0.000390</td>\n",
       "      <td>8.0</td>\n",
       "      <td>0.276580</td>\n",
       "      <td>-7.794237</td>\n",
       "      <td>0</td>\n",
       "      <td>0.207067</td>\n",
       "      <td>158.626764</td>\n",
       "      <td>3</td>\n",
       "      <td>0.662987</td>\n",
       "      <td>1</td>\n",
       "    </tr>\n",
       "    <tr>\n",
       "      <th>8</th>\n",
       "      <td>8</td>\n",
       "      <td>169660.0</td>\n",
       "      <td>NaN</td>\n",
       "      <td>0.653263</td>\n",
       "      <td>0.917034</td>\n",
       "      <td>0.001748</td>\n",
       "      <td>0.0</td>\n",
       "      <td>NaN</td>\n",
       "      <td>-4.422089</td>\n",
       "      <td>0</td>\n",
       "      <td>0.031608</td>\n",
       "      <td>122.382398</td>\n",
       "      <td>3</td>\n",
       "      <td>0.297683</td>\n",
       "      <td>1</td>\n",
       "    </tr>\n",
       "    <tr>\n",
       "      <th>9</th>\n",
       "      <td>9</td>\n",
       "      <td>167245.0</td>\n",
       "      <td>0.019617</td>\n",
       "      <td>0.595235</td>\n",
       "      <td>0.820039</td>\n",
       "      <td>0.761884</td>\n",
       "      <td>5.0</td>\n",
       "      <td>0.181098</td>\n",
       "      <td>-5.154293</td>\n",
       "      <td>0</td>\n",
       "      <td>0.054493</td>\n",
       "      <td>110.524824</td>\n",
       "      <td>4</td>\n",
       "      <td>0.535453</td>\n",
       "      <td>0</td>\n",
       "    </tr>\n",
       "    <tr>\n",
       "      <th>10</th>\n",
       "      <td>10</td>\n",
       "      <td>128274.0</td>\n",
       "      <td>0.614007</td>\n",
       "      <td>0.397899</td>\n",
       "      <td>0.346820</td>\n",
       "      <td>0.002853</td>\n",
       "      <td>3.0</td>\n",
       "      <td>0.132549</td>\n",
       "      <td>NaN</td>\n",
       "      <td>1</td>\n",
       "      <td>0.059512</td>\n",
       "      <td>87.363516</td>\n",
       "      <td>3</td>\n",
       "      <td>0.671581</td>\n",
       "      <td>1</td>\n",
       "    </tr>\n",
       "    <tr>\n",
       "      <th>11</th>\n",
       "      <td>11</td>\n",
       "      <td>213121.0</td>\n",
       "      <td>0.044053</td>\n",
       "      <td>0.817874</td>\n",
       "      <td>0.729679</td>\n",
       "      <td>0.003660</td>\n",
       "      <td>5.0</td>\n",
       "      <td>0.137938</td>\n",
       "      <td>-4.880149</td>\n",
       "      <td>0</td>\n",
       "      <td>0.038814</td>\n",
       "      <td>124.199541</td>\n",
       "      <td>4</td>\n",
       "      <td>0.816472</td>\n",
       "      <td>1</td>\n",
       "    </tr>\n",
       "    <tr>\n",
       "      <th>12</th>\n",
       "      <td>12</td>\n",
       "      <td>219730.0</td>\n",
       "      <td>0.339275</td>\n",
       "      <td>0.660707</td>\n",
       "      <td>NaN</td>\n",
       "      <td>NaN</td>\n",
       "      <td>0.0</td>\n",
       "      <td>0.223173</td>\n",
       "      <td>-12.005655</td>\n",
       "      <td>0</td>\n",
       "      <td>0.089726</td>\n",
       "      <td>164.877811</td>\n",
       "      <td>3</td>\n",
       "      <td>0.322253</td>\n",
       "      <td>1</td>\n",
       "    </tr>\n",
       "    <tr>\n",
       "      <th>13</th>\n",
       "      <td>13</td>\n",
       "      <td>NaN</td>\n",
       "      <td>0.455778</td>\n",
       "      <td>0.448538</td>\n",
       "      <td>0.754924</td>\n",
       "      <td>NaN</td>\n",
       "      <td>NaN</td>\n",
       "      <td>0.076379</td>\n",
       "      <td>-3.158905</td>\n",
       "      <td>0</td>\n",
       "      <td>0.034837</td>\n",
       "      <td>118.664526</td>\n",
       "      <td>3</td>\n",
       "      <td>0.862989</td>\n",
       "      <td>0</td>\n",
       "    </tr>\n",
       "    <tr>\n",
       "      <th>14</th>\n",
       "      <td>14</td>\n",
       "      <td>NaN</td>\n",
       "      <td>0.462876</td>\n",
       "      <td>0.384318</td>\n",
       "      <td>0.653525</td>\n",
       "      <td>0.781326</td>\n",
       "      <td>6.0</td>\n",
       "      <td>NaN</td>\n",
       "      <td>-10.362441</td>\n",
       "      <td>0</td>\n",
       "      <td>0.065149</td>\n",
       "      <td>141.581118</td>\n",
       "      <td>3</td>\n",
       "      <td>0.432883</td>\n",
       "      <td>0</td>\n",
       "    </tr>\n",
       "  </tbody>\n",
       "</table>\n",
       "</div>"
      ],
      "text/plain": [
       "    id  song_duration_ms  acousticness  danceability    energy  \\\n",
       "0    0          212990.0      0.642286      0.856520  0.707073   \n",
       "1    1               NaN      0.054866      0.733289  0.835545   \n",
       "2    2          193213.0           NaN      0.188387  0.783524   \n",
       "3    3          249893.0      0.488660      0.585234  0.552685   \n",
       "4    4          165969.0      0.493017           NaN  0.740982   \n",
       "5    5          188891.0      0.035655      0.825919  0.804528   \n",
       "6    6          161061.0      0.081743      0.673588  0.880181   \n",
       "7    7          196202.0      0.259747      0.813214  0.554385   \n",
       "8    8          169660.0           NaN      0.653263  0.917034   \n",
       "9    9          167245.0      0.019617      0.595235  0.820039   \n",
       "10  10          128274.0      0.614007      0.397899  0.346820   \n",
       "11  11          213121.0      0.044053      0.817874  0.729679   \n",
       "12  12          219730.0      0.339275      0.660707       NaN   \n",
       "13  13               NaN      0.455778      0.448538  0.754924   \n",
       "14  14               NaN      0.462876      0.384318  0.653525   \n",
       "\n",
       "    instrumentalness   key  liveness   loudness  audio_mode  speechiness  \\\n",
       "0           0.002001  10.0       NaN  -5.619088           0     0.082570   \n",
       "1           0.000996   8.0  0.436428  -5.236965           1     0.127358   \n",
       "2          -0.002694   5.0  0.170499  -4.951759           0     0.052282   \n",
       "3           0.000608   0.0  0.094805  -7.893694           0     0.035618   \n",
       "4           0.002033  10.0  0.094891  -2.684095           0     0.050746   \n",
       "5          -0.000005   4.0  0.120758  -6.122926           0     0.039012   \n",
       "6           0.000327   0.0  0.535411  -2.909607           1     0.030902   \n",
       "7           0.000390   8.0  0.276580  -7.794237           0     0.207067   \n",
       "8           0.001748   0.0       NaN  -4.422089           0     0.031608   \n",
       "9           0.761884   5.0  0.181098  -5.154293           0     0.054493   \n",
       "10          0.002853   3.0  0.132549        NaN           1     0.059512   \n",
       "11          0.003660   5.0  0.137938  -4.880149           0     0.038814   \n",
       "12               NaN   0.0  0.223173 -12.005655           0     0.089726   \n",
       "13               NaN   NaN  0.076379  -3.158905           0     0.034837   \n",
       "14          0.781326   6.0       NaN -10.362441           0     0.065149   \n",
       "\n",
       "         tempo  time_signature  audio_valence  song_popularity  \n",
       "0   158.386236               4       0.734642                0  \n",
       "1   102.752988               3       0.711531                1  \n",
       "2   178.685791               3       0.425536                0  \n",
       "3   128.715630               3       0.453597                0  \n",
       "4   121.928157               4       0.741311                0  \n",
       "5   115.679128               4       0.709408                0  \n",
       "6    98.046205               4       0.982729                0  \n",
       "7   158.626764               3       0.662987                1  \n",
       "8   122.382398               3       0.297683                1  \n",
       "9   110.524824               4       0.535453                0  \n",
       "10   87.363516               3       0.671581                1  \n",
       "11  124.199541               4       0.816472                1  \n",
       "12  164.877811               3       0.322253                1  \n",
       "13  118.664526               3       0.862989                0  \n",
       "14  141.581118               3       0.432883                0  "
      ]
     },
     "execution_count": 6,
     "metadata": {},
     "output_type": "execute_result"
    }
   ],
   "source": [
    "df.head(15)"
   ]
  },
  {
   "cell_type": "code",
   "execution_count": 7,
   "metadata": {},
   "outputs": [
    {
     "data": {
      "text/plain": [
       "id                  40000\n",
       "song_duration_ms    35899\n",
       "acousticness        36008\n",
       "danceability        35974\n",
       "energy              36025\n",
       "instrumentalness    36015\n",
       "key                 35935\n",
       "liveness            35914\n",
       "loudness            36043\n",
       "audio_mode          40000\n",
       "speechiness         40000\n",
       "tempo               40000\n",
       "time_signature      40000\n",
       "audio_valence       40000\n",
       "song_popularity     40000\n",
       "dtype: int64"
      ]
     },
     "execution_count": 7,
     "metadata": {},
     "output_type": "execute_result"
    }
   ],
   "source": [
    "df.count()"
   ]
  },
  {
   "cell_type": "code",
   "execution_count": 8,
   "metadata": {},
   "outputs": [
    {
     "data": {
      "text/plain": [
       "id                     0\n",
       "song_duration_ms    4101\n",
       "acousticness        3992\n",
       "danceability        4026\n",
       "energy              3975\n",
       "instrumentalness    3985\n",
       "key                 4065\n",
       "liveness            4086\n",
       "loudness            3957\n",
       "audio_mode             0\n",
       "speechiness            0\n",
       "tempo                  0\n",
       "time_signature         0\n",
       "audio_valence          0\n",
       "song_popularity        0\n",
       "dtype: int64"
      ]
     },
     "execution_count": 8,
     "metadata": {},
     "output_type": "execute_result"
    }
   ],
   "source": [
    "df.isna().sum()"
   ]
  },
  {
   "cell_type": "code",
   "execution_count": 9,
   "metadata": {},
   "outputs": [],
   "source": [
    "# from pandas_profiling import ProfileReport"
   ]
  },
  {
   "cell_type": "code",
   "execution_count": 10,
   "metadata": {},
   "outputs": [],
   "source": [
    "# profile = ProfileReport(df, title = 'Song Pop Report', explorative = True)"
   ]
  },
  {
   "cell_type": "code",
   "execution_count": 11,
   "metadata": {},
   "outputs": [],
   "source": [
    "# profile.to_widgets()"
   ]
  },
  {
   "cell_type": "code",
   "execution_count": 12,
   "metadata": {},
   "outputs": [],
   "source": [
    "# df.dtypes"
   ]
  },
  {
   "cell_type": "code",
   "execution_count": 13,
   "metadata": {},
   "outputs": [],
   "source": [
    "df['song_duration_ms'].fillna(df['song_duration_ms'].mean(), inplace = True)"
   ]
  },
  {
   "cell_type": "code",
   "execution_count": 14,
   "metadata": {},
   "outputs": [
    {
     "data": {
      "text/plain": [
       "id                     0\n",
       "song_duration_ms       0\n",
       "acousticness        3992\n",
       "danceability        4026\n",
       "energy              3975\n",
       "instrumentalness    3985\n",
       "key                 4065\n",
       "liveness            4086\n",
       "loudness            3957\n",
       "audio_mode             0\n",
       "speechiness            0\n",
       "tempo                  0\n",
       "time_signature         0\n",
       "audio_valence          0\n",
       "song_popularity        0\n",
       "dtype: int64"
      ]
     },
     "execution_count": 14,
     "metadata": {},
     "output_type": "execute_result"
    }
   ],
   "source": [
    "df.isnull().sum()"
   ]
  },
  {
   "cell_type": "code",
   "execution_count": 15,
   "metadata": {},
   "outputs": [],
   "source": [
    "df['acousticness'].fillna(df['acousticness'].mean(), inplace = True)\n",
    "df['danceability'].fillna(df['danceability'].mean(), inplace = True)\n",
    "df['energy'].fillna(df['energy'].mean(), inplace = True)\n",
    "df['instrumentalness'].fillna(df['instrumentalness'].mean(), inplace = True)\n",
    "df['key'].fillna(df['key'].mean(), inplace = True)\n",
    "df['liveness'].fillna(df['liveness'].mean(), inplace = True)\n",
    "df['loudness'].fillna(df['loudness'].mean(), inplace = True)"
   ]
  },
  {
   "cell_type": "code",
   "execution_count": 16,
   "metadata": {},
   "outputs": [
    {
     "data": {
      "text/plain": [
       "id                  0\n",
       "song_duration_ms    0\n",
       "acousticness        0\n",
       "danceability        0\n",
       "energy              0\n",
       "instrumentalness    0\n",
       "key                 0\n",
       "liveness            0\n",
       "loudness            0\n",
       "audio_mode          0\n",
       "speechiness         0\n",
       "tempo               0\n",
       "time_signature      0\n",
       "audio_valence       0\n",
       "song_popularity     0\n",
       "dtype: int64"
      ]
     },
     "execution_count": 16,
     "metadata": {},
     "output_type": "execute_result"
    }
   ],
   "source": [
    "df.isnull().sum()"
   ]
  },
  {
   "cell_type": "markdown",
   "metadata": {},
   "source": [
    "# Visualisation"
   ]
  },
  {
   "cell_type": "code",
   "execution_count": 17,
   "metadata": {},
   "outputs": [
    {
     "data": {
      "image/png": "[encoded data removed]",
      "text/plain": [
       "<Figure size 1440x1440 with 2 Axes>"
      ]
     },
     "metadata": {
      "needs_background": "light"
     },
     "output_type": "display_data"
    }
   ],
   "source": [
    "## Correlation\n",
    "import seaborn as sns\n",
    "import matplotlib.pyplot as plt\n",
    "#get correlations of each features in dataset\n",
    "corrmat = df.corr()\n",
    "top_corr_features = corrmat.index\n",
    "plt.figure(figsize=(20,20))\n",
    "#plot heat map\n",
    "g=sns.heatmap(df[top_corr_features].corr(),annot=True,cmap=\"RdYlGn\")"
   ]
  },
  {
   "cell_type": "code",
   "execution_count": 20,
   "metadata": {},
   "outputs": [],
   "source": []
  },
  {
   "cell_type": "code",
   "execution_count": 21,
   "metadata": {},
   "outputs": [],
   "source": [
    "from sklearn.model_selection import RandomizedSearchCV, GridSearchCV"
   ]
  },
  {
   "cell_type": "code",
   "execution_count": null,
   "metadata": {},
   "outputs": [],
   "source": []
  },
  {
   "cell_type": "code",
   "execution_count": null,
   "metadata": {},
   "outputs": [],
   "source": []
  },
  {
   "cell_type": "code",
   "execution_count": null,
   "metadata": {},
   "outputs": [],
   "source": []
  },
  {
   "cell_type": "code",
   "execution_count": null,
   "metadata": {},
   "outputs": [],
   "source": []
  },
  {
   "cell_type": "code",
   "execution_count": null,
   "metadata": {},
   "outputs": [],
   "source": []
  },
  {
   "cell_type": "code",
   "execution_count": null,
   "metadata": {},
   "outputs": [],
   "source": []
  },
  {
   "cell_type": "code",
   "execution_count": null,
   "metadata": {},
   "outputs": [],
   "source": []
  },
  {
   "cell_type": "markdown",
   "metadata": {},
   "source": [
    "# XGB"
   ]
  },
  {
   "cell_type": "code",
   "execution_count": 52,
   "metadata": {},
   "outputs": [],
   "source": [
    "from xgboost import XGBClassifier\n",
    "from sklearn.metrics import confusion_matrix\n",
    "from sklearn.model_selection import train_test_split\n",
    "from sklearn.model_selection import cross_val_score, KFold"
   ]
  },
  {
   "cell_type": "code",
   "execution_count": 471,
   "metadata": {},
   "outputs": [],
   "source": [
    "X = df.drop(columns = ['id', 'song_popularity', 'song_duration_ms', 'instrumentalness'])\n",
    "y = df.song_popularity"
   ]
  },
  {
   "cell_type": "code",
   "execution_count": 472,
   "metadata": {},
   "outputs": [],
   "source": [
    "X_train, X_test, y_train, y_test = train_test_split(X, y, test_size = 0.1, random_state = 42)"
   ]
  },
  {
   "cell_type": "code",
   "execution_count": 473,
   "metadata": {},
   "outputs": [],
   "source": [
    "xgbc = XGBClassifier()"
   ]
  },
  {
   "cell_type": "code",
   "execution_count": 474,
   "metadata": {},
   "outputs": [
    {
     "name": "stdout",
     "output_type": "stream",
     "text": [
      "XGBClassifier(base_score=None, booster=None, colsample_bylevel=None,\n",
      "              colsample_bynode=None, colsample_bytree=None, gamma=None,\n",
      "              gpu_id=None, importance_type='gain', interaction_constraints=None,\n",
      "              learning_rate=None, max_delta_step=None, max_depth=None,\n",
      "              min_child_weight=None, missing=nan, monotone_constraints=None,\n",
      "              n_estimators=100, n_jobs=None, num_parallel_tree=None,\n",
      "              random_state=None, reg_alpha=None, reg_lambda=None,\n",
      "              scale_pos_weight=None, subsample=None, tree_method=None,\n",
      "              validate_parameters=None, verbosity=None)\n"
     ]
    }
   ],
   "source": [
    "print(xgbc)"
   ]
  },
  {
   "cell_type": "code",
   "execution_count": 475,
   "metadata": {},
   "outputs": [
    {
     "name": "stdout",
     "output_type": "stream",
     "text": [
      "[19:58:08] WARNING: C:/Users/Administrator/workspace/xgboost-win64_release_1.4.0/src/learner.cc:1095: Starting in XGBoost 1.3.0, the default evaluation metric used with the objective 'binary:logistic' was changed from 'error' to 'logloss'. Explicitly set eval_metric if you'd like to restore the old behavior.\n"
     ]
    },
    {
     "data": {
      "text/plain": [
       "XGBClassifier(base_score=0.5, booster='gbtree', colsample_bylevel=1,\n",
       "              colsample_bynode=1, colsample_bytree=1, gamma=0, gpu_id=-1,\n",
       "              importance_type='gain', interaction_constraints='',\n",
       "              learning_rate=0.300000012, max_delta_step=0, max_depth=6,\n",
       "              min_child_weight=1, missing=nan, monotone_constraints='()',\n",
       "              n_estimators=100, n_jobs=8, num_parallel_tree=1, random_state=0,\n",
       "              reg_alpha=0, reg_lambda=1, scale_pos_weight=1, subsample=1,\n",
       "              tree_method='exact', validate_parameters=1, verbosity=None)"
      ]
     },
     "execution_count": 475,
     "metadata": {},
     "output_type": "execute_result"
    }
   ],
   "source": [
    "xgbc.fit(X_train, y_train)"
   ]
  },
  {
   "cell_type": "code",
   "execution_count": 476,
   "metadata": {},
   "outputs": [],
   "source": [
    "y_pred = xgbc.predict(X_test)\n",
    "predictions = [round(value) for value in y_pred]"
   ]
  },
  {
   "cell_type": "code",
   "execution_count": 477,
   "metadata": {},
   "outputs": [],
   "source": [
    "from sklearn.metrics import accuracy_score"
   ]
  },
  {
   "cell_type": "code",
   "execution_count": 478,
   "metadata": {},
   "outputs": [
    {
     "name": "stdout",
     "output_type": "stream",
     "text": [
      "Accuracy: 62.90%\n"
     ]
    }
   ],
   "source": [
    "accuracy = accuracy_score(y_test, predictions)\n",
    "print(\"Accuracy: %.2f%%\" % (accuracy * 100.0))"
   ]
  },
  {
   "cell_type": "markdown",
   "metadata": {},
   "source": [
    "# XGB with HT"
   ]
  },
  {
   "cell_type": "code",
   "execution_count": 491,
   "metadata": {},
   "outputs": [],
   "source": [
    "from xgboost import XGBClassifier\n",
    "from sklearn.metrics import confusion_matrix\n",
    "from sklearn.model_selection import train_test_split\n",
    "from sklearn.model_selection import cross_val_score, KFold"
   ]
  },
  {
   "cell_type": "code",
   "execution_count": 492,
   "metadata": {},
   "outputs": [],
   "source": [
    "X = df.drop(columns = ['id', 'song_popularity', 'song_duration_ms', 'instrumentalness', 'audio_mode'])\n",
    "y = df.song_popularity"
   ]
  },
  {
   "cell_type": "code",
   "execution_count": 493,
   "metadata": {},
   "outputs": [],
   "source": [
    "X_train, X_test, y_train, y_test = train_test_split(X, y, test_size = 0.1, random_state = 42)"
   ]
  },
  {
   "cell_type": "code",
   "execution_count": 494,
   "metadata": {},
   "outputs": [],
   "source": [
    "## Hyper Parameter Optimization\n",
    "\n",
    "params={\n",
    " \"learning_rate\"    : [0.05, 0.10, 0.15, 0.20, 0.25, 0.30 ] ,\n",
    " \"max_depth\"        : [ 3, 4, 5, 6, 8, 10, 12, 15],\n",
    " \"min_child_weight\" : [ 1, 3, 5, 7 ],\n",
    " \"gamma\"            : [ 0.0, 0.1, 0.2 , 0.3, 0.4 ],\n",
    " \"colsample_bytree\" : [ 0.3, 0.4, 0.5 , 0.7 ],\n",
    "    \n",
    "}"
   ]
  },
  {
   "cell_type": "code",
   "execution_count": 495,
   "metadata": {},
   "outputs": [],
   "source": [
    "from sklearn.model_selection import RandomizedSearchCV, GridSearchCV"
   ]
  },
  {
   "cell_type": "code",
   "execution_count": 496,
   "metadata": {},
   "outputs": [],
   "source": [
    "xgbc = XGBClassifier()"
   ]
  },
  {
   "cell_type": "code",
   "execution_count": 497,
   "metadata": {},
   "outputs": [],
   "source": [
    "random_search=RandomizedSearchCV(xgbc,param_distributions=params,n_iter=5,scoring='roc_auc',n_jobs=-1,cv=5,verbose=3)"
   ]
  },
  {
   "cell_type": "code",
   "execution_count": 498,
   "metadata": {},
   "outputs": [
    {
     "name": "stdout",
     "output_type": "stream",
     "text": [
      "Fitting 5 folds for each of 5 candidates, totalling 25 fits\n"
     ]
    },
    {
     "name": "stderr",
     "output_type": "stream",
     "text": [
      "[Parallel(n_jobs=-1)]: Using backend LokyBackend with 8 concurrent workers.\n",
      "[Parallel(n_jobs=-1)]: Done  19 out of  25 | elapsed:   14.5s remaining:    4.5s\n",
      "[Parallel(n_jobs=-1)]: Done  25 out of  25 | elapsed:   21.5s finished\n",
      "C:\\Users\\anime\\anaconda3\\lib\\site-packages\\xgboost\\sklearn.py:1146: UserWarning: The use of label encoder in XGBClassifier is deprecated and will be removed in a future release. To remove this warning, do the following: 1) Pass option use_label_encoder=False when constructing XGBClassifier object; and 2) Encode your labels (y) as integers starting with 0, i.e. 0, 1, 2, ..., [num_class - 1].\n",
      "  warnings.warn(label_encoder_deprecation_msg, UserWarning)\n"
     ]
    },
    {
     "name": "stdout",
     "output_type": "stream",
     "text": [
      "[19:59:55] WARNING: C:/Users/Administrator/workspace/xgboost-win64_release_1.4.0/src/learner.cc:1095: Starting in XGBoost 1.3.0, the default evaluation metric used with the objective 'binary:logistic' was changed from 'error' to 'logloss'. Explicitly set eval_metric if you'd like to restore the old behavior.\n"
     ]
    },
    {
     "data": {
      "text/plain": [
       "RandomizedSearchCV(cv=5,\n",
       "                   estimator=XGBClassifier(base_score=None, booster=None,\n",
       "                                           colsample_bylevel=None,\n",
       "                                           colsample_bynode=None,\n",
       "                                           colsample_bytree=None, gamma=None,\n",
       "                                           gpu_id=None, importance_type='gain',\n",
       "                                           interaction_constraints=None,\n",
       "                                           learning_rate=None,\n",
       "                                           max_delta_step=None, max_depth=None,\n",
       "                                           min_child_weight=None, missing=nan,\n",
       "                                           monotone_constraints=None,\n",
       "                                           n_estimators=100,...\n",
       "                                           reg_lambda=None,\n",
       "                                           scale_pos_weight=None,\n",
       "                                           subsample=None, tree_method=None,\n",
       "                                           validate_parameters=None,\n",
       "                                           verbosity=None),\n",
       "                   n_iter=5, n_jobs=-1,\n",
       "                   param_distributions={'colsample_bytree': [0.3, 0.4, 0.5,\n",
       "                                                             0.7],\n",
       "                                        'gamma': [0.0, 0.1, 0.2, 0.3, 0.4],\n",
       "                                        'learning_rate': [0.05, 0.1, 0.15, 0.2,\n",
       "                                                          0.25, 0.3],\n",
       "                                        'max_depth': [3, 4, 5, 6, 8, 10, 12,\n",
       "                                                      15],\n",
       "                                        'min_child_weight': [1, 3, 5, 7]},\n",
       "                   scoring='roc_auc', verbose=3)"
      ]
     },
     "execution_count": 498,
     "metadata": {},
     "output_type": "execute_result"
    }
   ],
   "source": [
    "random_search.fit(X_train,y_train)"
   ]
  },
  {
   "cell_type": "code",
   "execution_count": 499,
   "metadata": {},
   "outputs": [
    {
     "data": {
      "text/plain": [
       "XGBClassifier(base_score=0.5, booster='gbtree', colsample_bylevel=1,\n",
       "              colsample_bynode=1, colsample_bytree=0.5, gamma=0.1, gpu_id=-1,\n",
       "              importance_type='gain', interaction_constraints='',\n",
       "              learning_rate=0.15, max_delta_step=0, max_depth=4,\n",
       "              min_child_weight=3, missing=nan, monotone_constraints='()',\n",
       "              n_estimators=100, n_jobs=8, num_parallel_tree=1, random_state=0,\n",
       "              reg_alpha=0, reg_lambda=1, scale_pos_weight=1, subsample=1,\n",
       "              tree_method='exact', validate_parameters=1, verbosity=None)"
      ]
     },
     "execution_count": 499,
     "metadata": {},
     "output_type": "execute_result"
    }
   ],
   "source": [
    "random_search.best_estimator_"
   ]
  },
  {
   "cell_type": "code",
   "execution_count": 500,
   "metadata": {},
   "outputs": [],
   "source": [
    "xgbc = XGBClassifier(base_score=0.5, booster='gbtree', colsample_bylevel=1,\n",
    "              colsample_bynode=1, colsample_bytree=0.5, gamma=0.3, gpu_id=-1,\n",
    "              importance_type='gain', interaction_constraints='',\n",
    "              learning_rate=0.1, max_delta_step=0, max_depth=5,\n",
    "              min_child_weight=0, missing=1, monotone_constraints='()',\n",
    "              n_estimators=150, n_jobs=8, num_parallel_tree=1, random_state=0,\n",
    "              reg_alpha=0, reg_lambda=1, scale_pos_weight=1, subsample=1,\n",
    "              tree_method='exact', validate_parameters=1, verbosity=None)"
   ]
  },
  {
   "cell_type": "code",
   "execution_count": 501,
   "metadata": {},
   "outputs": [
    {
     "name": "stdout",
     "output_type": "stream",
     "text": [
      "[19:59:56] WARNING: C:/Users/Administrator/workspace/xgboost-win64_release_1.4.0/src/learner.cc:1095: Starting in XGBoost 1.3.0, the default evaluation metric used with the objective 'binary:logistic' was changed from 'error' to 'logloss'. Explicitly set eval_metric if you'd like to restore the old behavior.\n"
     ]
    },
    {
     "data": {
      "text/plain": [
       "XGBClassifier(base_score=0.5, booster='gbtree', colsample_bylevel=1,\n",
       "              colsample_bynode=1, colsample_bytree=0.5, gamma=0.3, gpu_id=-1,\n",
       "              importance_type='gain', interaction_constraints='',\n",
       "              learning_rate=0.1, max_delta_step=0, max_depth=5,\n",
       "              min_child_weight=0, missing=1, monotone_constraints='()',\n",
       "              n_estimators=150, n_jobs=8, num_parallel_tree=1, random_state=0,\n",
       "              reg_alpha=0, reg_lambda=1, scale_pos_weight=1, subsample=1,\n",
       "              tree_method='exact', validate_parameters=1, verbosity=None)"
      ]
     },
     "execution_count": 501,
     "metadata": {},
     "output_type": "execute_result"
    }
   ],
   "source": [
    "xgbc.fit(X_train, y_train)"
   ]
  },
  {
   "cell_type": "code",
   "execution_count": 502,
   "metadata": {},
   "outputs": [],
   "source": [
    "y_pred = xgbc.predict(X_test)\n",
    "predictions = [round(value) for value in y_pred]"
   ]
  },
  {
   "cell_type": "code",
   "execution_count": 503,
   "metadata": {},
   "outputs": [],
   "source": [
    "from sklearn.metrics import accuracy_score"
   ]
  },
  {
   "cell_type": "code",
   "execution_count": 504,
   "metadata": {},
   "outputs": [
    {
     "name": "stdout",
     "output_type": "stream",
     "text": [
      "0.64525\n"
     ]
    }
   ],
   "source": [
    "accuracy = accuracy_score(y_test, predictions)\n",
    "print(accuracy)"
   ]
  },
  {
   "cell_type": "code",
   "execution_count": 505,
   "metadata": {},
   "outputs": [],
   "source": [
    "df1 = pd.read_csv(\"test.csv\")"
   ]
  },
  {
   "cell_type": "code",
   "execution_count": 508,
   "metadata": {},
   "outputs": [],
   "source": [
    "df1['song_duration_ms'].fillna(df['song_duration_ms'].mean(), inplace = True)\n",
    "df1['acousticness'].fillna(df1['acousticness'].mean(), inplace = True)\n",
    "df1['danceability'].fillna(df1['danceability'].mean(), inplace = True)\n",
    "df1['energy'].fillna(df1['energy'].mean(), inplace = True)\n",
    "df1['instrumentalness'].fillna(df1['instrumentalness'].mean(), inplace = True)\n",
    "df1['key'].fillna(df['key'].mean(), inplace = True)\n",
    "df1['liveness'].fillna(df1['liveness'].mean(), inplace = True)\n",
    "df1['loudness'].fillna(df1['loudness'].mean(), inplace = True)"
   ]
  },
  {
   "cell_type": "code",
   "execution_count": 512,
   "metadata": {},
   "outputs": [],
   "source": [
    "X1 = df1.drop(columns = ['id', 'song_duration_ms', 'instrumentalness', 'audio_mode'])"
   ]
  },
  {
   "cell_type": "code",
   "execution_count": 513,
   "metadata": {},
   "outputs": [
    {
     "data": {
      "text/plain": [
       "acousticness      0\n",
       "danceability      0\n",
       "energy            0\n",
       "key               0\n",
       "liveness          0\n",
       "loudness          0\n",
       "speechiness       0\n",
       "tempo             0\n",
       "time_signature    0\n",
       "audio_valence     0\n",
       "dtype: int64"
      ]
     },
     "execution_count": 513,
     "metadata": {},
     "output_type": "execute_result"
    }
   ],
   "source": [
    "X1.isnull().sum()"
   ]
  },
  {
   "cell_type": "code",
   "execution_count": 514,
   "metadata": {},
   "outputs": [],
   "source": [
    "y1 = xgbc.predict(X1)"
   ]
  },
  {
   "cell_type": "code",
   "execution_count": 515,
   "metadata": {},
   "outputs": [
    {
     "data": {
      "text/plain": [
       "array([0, 0, 0, 0, 0, 0, 0, 0, 0, 0], dtype=int64)"
      ]
     },
     "execution_count": 515,
     "metadata": {},
     "output_type": "execute_result"
    }
   ],
   "source": [
    "y1[:10]"
   ]
  },
  {
   "cell_type": "code",
   "execution_count": 518,
   "metadata": {},
   "outputs": [],
   "source": [
    "df_final = pd.DataFrame({'song_popularity': y1})\n",
    "df_final1 = df1.id"
   ]
  },
  {
   "cell_type": "code",
   "execution_count": 519,
   "metadata": {},
   "outputs": [],
   "source": [
    "result = pd.concat([df_final1, df_final], axis=1, ignore_index=True)"
   ]
  },
  {
   "cell_type": "code",
   "execution_count": 520,
   "metadata": {},
   "outputs": [
    {
     "data": {
      "text/html": [
       "<div>\n",
       "<style scoped>\n",
       "    .dataframe tbody tr th:only-of-type {\n",
       "        vertical-align: middle;\n",
       "    }\n",
       "\n",
       "    .dataframe tbody tr th {\n",
       "        vertical-align: top;\n",
       "    }\n",
       "\n",
       "    .dataframe thead th {\n",
       "        text-align: right;\n",
       "    }\n",
       "</style>\n",
       "<table border=\"1\" class=\"dataframe\">\n",
       "  <thead>\n",
       "    <tr style=\"text-align: right;\">\n",
       "      <th></th>\n",
       "      <th>0</th>\n",
       "      <th>1</th>\n",
       "    </tr>\n",
       "  </thead>\n",
       "  <tbody>\n",
       "    <tr>\n",
       "      <th>0</th>\n",
       "      <td>0</td>\n",
       "      <td>0</td>\n",
       "    </tr>\n",
       "    <tr>\n",
       "      <th>1</th>\n",
       "      <td>1</td>\n",
       "      <td>0</td>\n",
       "    </tr>\n",
       "    <tr>\n",
       "      <th>2</th>\n",
       "      <td>2</td>\n",
       "      <td>0</td>\n",
       "    </tr>\n",
       "    <tr>\n",
       "      <th>3</th>\n",
       "      <td>3</td>\n",
       "      <td>0</td>\n",
       "    </tr>\n",
       "    <tr>\n",
       "      <th>4</th>\n",
       "      <td>4</td>\n",
       "      <td>0</td>\n",
       "    </tr>\n",
       "  </tbody>\n",
       "</table>\n",
       "</div>"
      ],
      "text/plain": [
       "   0  1\n",
       "0  0  0\n",
       "1  1  0\n",
       "2  2  0\n",
       "3  3  0\n",
       "4  4  0"
      ]
     },
     "execution_count": 520,
     "metadata": {},
     "output_type": "execute_result"
    }
   ],
   "source": [
    "result.head()"
   ]
  },
  {
   "cell_type": "code",
   "execution_count": 522,
   "metadata": {},
   "outputs": [],
   "source": [
    "result.columns = ['id', 'song_popularity']"
   ]
  },
  {
   "cell_type": "code",
   "execution_count": 523,
   "metadata": {},
   "outputs": [
    {
     "data": {
      "text/html": [
       "<div>\n",
       "<style scoped>\n",
       "    .dataframe tbody tr th:only-of-type {\n",
       "        vertical-align: middle;\n",
       "    }\n",
       "\n",
       "    .dataframe tbody tr th {\n",
       "        vertical-align: top;\n",
       "    }\n",
       "\n",
       "    .dataframe thead th {\n",
       "        text-align: right;\n",
       "    }\n",
       "</style>\n",
       "<table border=\"1\" class=\"dataframe\">\n",
       "  <thead>\n",
       "    <tr style=\"text-align: right;\">\n",
       "      <th></th>\n",
       "      <th>id</th>\n",
       "      <th>song_popularity</th>\n",
       "    </tr>\n",
       "  </thead>\n",
       "  <tbody>\n",
       "    <tr>\n",
       "      <th>0</th>\n",
       "      <td>0</td>\n",
       "      <td>0</td>\n",
       "    </tr>\n",
       "    <tr>\n",
       "      <th>1</th>\n",
       "      <td>1</td>\n",
       "      <td>0</td>\n",
       "    </tr>\n",
       "    <tr>\n",
       "      <th>2</th>\n",
       "      <td>2</td>\n",
       "      <td>0</td>\n",
       "    </tr>\n",
       "    <tr>\n",
       "      <th>3</th>\n",
       "      <td>3</td>\n",
       "      <td>0</td>\n",
       "    </tr>\n",
       "    <tr>\n",
       "      <th>4</th>\n",
       "      <td>4</td>\n",
       "      <td>0</td>\n",
       "    </tr>\n",
       "  </tbody>\n",
       "</table>\n",
       "</div>"
      ],
      "text/plain": [
       "   id  song_popularity\n",
       "0   0                0\n",
       "1   1                0\n",
       "2   2                0\n",
       "3   3                0\n",
       "4   4                0"
      ]
     },
     "execution_count": 523,
     "metadata": {},
     "output_type": "execute_result"
    }
   ],
   "source": [
    "result.head()"
   ]
  },
  {
   "cell_type": "code",
   "execution_count": 525,
   "metadata": {},
   "outputs": [],
   "source": [
    "result.to_csv('submission.csv')"
   ]
  },
  {
   "cell_type": "code",
   "execution_count": null,
   "metadata": {},
   "outputs": [],
   "source": []
  },
  {
   "cell_type": "code",
   "execution_count": null,
   "metadata": {},
   "outputs": [],
   "source": []
  },
  {
   "cell_type": "markdown",
   "metadata": {},
   "source": [
    "# Saving Predictions"
   ]
  },
  {
   "cell_type": "code",
   "execution_count": 75,
   "metadata": {},
   "outputs": [],
   "source": [
    "df1 = pd.read_csv(\"test.csv\")"
   ]
  },
  {
   "cell_type": "code",
   "execution_count": 76,
   "metadata": {},
   "outputs": [],
   "source": [
    "df1['song_duration_ms'].fillna(df['song_duration_ms'].mean(), inplace = True)\n",
    "df1['acousticness'].fillna(df1['acousticness'].mean(), inplace = True)\n",
    "df1['danceability'].fillna(df1['danceability'].mean(), inplace = True)\n",
    "df1['energy'].fillna(df1['energy'].mean(), inplace = True)\n",
    "df1['instrumentalness'].fillna(df1['instrumentalness'].mean(), inplace = True)\n",
    "df1['key'].fillna(df['key'].mean(), inplace = True)\n",
    "df1['liveness'].fillna(df1['liveness'].mean(), inplace = True)\n",
    "df1['loudness'].fillna(df1['loudness'].mean(), inplace = True)"
   ]
  },
  {
   "cell_type": "code",
   "execution_count": 77,
   "metadata": {},
   "outputs": [],
   "source": [
    "X1 = df1.drop(columns = ['id'])"
   ]
  },
  {
   "cell_type": "code",
   "execution_count": 78,
   "metadata": {},
   "outputs": [
    {
     "data": {
      "text/plain": [
       "song_duration_ms    0\n",
       "acousticness        0\n",
       "danceability        0\n",
       "energy              0\n",
       "instrumentalness    0\n",
       "key                 0\n",
       "liveness            0\n",
       "loudness            0\n",
       "audio_mode          0\n",
       "speechiness         0\n",
       "tempo               0\n",
       "time_signature      0\n",
       "audio_valence       0\n",
       "dtype: int64"
      ]
     },
     "execution_count": 78,
     "metadata": {},
     "output_type": "execute_result"
    }
   ],
   "source": [
    "X1.isnull().sum()"
   ]
  },
  {
   "cell_type": "code",
   "execution_count": null,
   "metadata": {},
   "outputs": [],
   "source": []
  },
  {
   "cell_type": "code",
   "execution_count": null,
   "metadata": {},
   "outputs": [],
   "source": []
  },
  {
   "cell_type": "code",
   "execution_count": 79,
   "metadata": {},
   "outputs": [
    {
     "data": {
      "text/plain": [
       "song_duration_ms    0\n",
       "acousticness        0\n",
       "danceability        0\n",
       "energy              0\n",
       "instrumentalness    0\n",
       "key                 0\n",
       "liveness            0\n",
       "loudness            0\n",
       "audio_mode          0\n",
       "speechiness         0\n",
       "tempo               0\n",
       "time_signature      0\n",
       "audio_valence       0\n",
       "dtype: int64"
      ]
     },
     "execution_count": 79,
     "metadata": {},
     "output_type": "execute_result"
    }
   ],
   "source": [
    "X1.isnull().sum()"
   ]
  },
  {
   "cell_type": "code",
   "execution_count": 80,
   "metadata": {},
   "outputs": [
    {
     "data": {
      "text/html": [
       "<div>\n",
       "<style scoped>\n",
       "    .dataframe tbody tr th:only-of-type {\n",
       "        vertical-align: middle;\n",
       "    }\n",
       "\n",
       "    .dataframe tbody tr th {\n",
       "        vertical-align: top;\n",
       "    }\n",
       "\n",
       "    .dataframe thead th {\n",
       "        text-align: right;\n",
       "    }\n",
       "</style>\n",
       "<table border=\"1\" class=\"dataframe\">\n",
       "  <thead>\n",
       "    <tr style=\"text-align: right;\">\n",
       "      <th></th>\n",
       "      <th>song_duration_ms</th>\n",
       "      <th>acousticness</th>\n",
       "      <th>danceability</th>\n",
       "      <th>energy</th>\n",
       "      <th>instrumentalness</th>\n",
       "      <th>key</th>\n",
       "      <th>liveness</th>\n",
       "      <th>loudness</th>\n",
       "      <th>audio_mode</th>\n",
       "      <th>speechiness</th>\n",
       "      <th>tempo</th>\n",
       "      <th>time_signature</th>\n",
       "      <th>audio_valence</th>\n",
       "    </tr>\n",
       "  </thead>\n",
       "  <tbody>\n",
       "    <tr>\n",
       "      <th>0</th>\n",
       "      <td>308523.000000</td>\n",
       "      <td>0.019845</td>\n",
       "      <td>0.569817</td>\n",
       "      <td>0.908939</td>\n",
       "      <td>0.001438</td>\n",
       "      <td>5.042605</td>\n",
       "      <td>0.112832</td>\n",
       "      <td>-8.890172</td>\n",
       "      <td>0</td>\n",
       "      <td>0.082714</td>\n",
       "      <td>126.129304</td>\n",
       "      <td>4</td>\n",
       "      <td>0.399620</td>\n",
       "    </tr>\n",
       "    <tr>\n",
       "      <th>1</th>\n",
       "      <td>200011.000000</td>\n",
       "      <td>0.070119</td>\n",
       "      <td>0.731256</td>\n",
       "      <td>0.444655</td>\n",
       "      <td>0.002020</td>\n",
       "      <td>10.000000</td>\n",
       "      <td>0.139040</td>\n",
       "      <td>-6.301214</td>\n",
       "      <td>0</td>\n",
       "      <td>0.061685</td>\n",
       "      <td>86.448149</td>\n",
       "      <td>3</td>\n",
       "      <td>0.499424</td>\n",
       "    </tr>\n",
       "    <tr>\n",
       "      <th>2</th>\n",
       "      <td>279758.000000</td>\n",
       "      <td>0.810637</td>\n",
       "      <td>0.568858</td>\n",
       "      <td>0.125466</td>\n",
       "      <td>0.898841</td>\n",
       "      <td>0.000000</td>\n",
       "      <td>0.226614</td>\n",
       "      <td>-11.542478</td>\n",
       "      <td>0</td>\n",
       "      <td>0.041868</td>\n",
       "      <td>99.544351</td>\n",
       "      <td>3</td>\n",
       "      <td>0.564951</td>\n",
       "    </tr>\n",
       "    <tr>\n",
       "      <th>3</th>\n",
       "      <td>249197.000000</td>\n",
       "      <td>0.280280</td>\n",
       "      <td>0.871789</td>\n",
       "      <td>0.557342</td>\n",
       "      <td>0.000715</td>\n",
       "      <td>4.000000</td>\n",
       "      <td>0.325391</td>\n",
       "      <td>-7.905546</td>\n",
       "      <td>1</td>\n",
       "      <td>0.046815</td>\n",
       "      <td>123.063854</td>\n",
       "      <td>4</td>\n",
       "      <td>0.906485</td>\n",
       "    </tr>\n",
       "    <tr>\n",
       "      <th>4</th>\n",
       "      <td>193165.847572</td>\n",
       "      <td>0.765568</td>\n",
       "      <td>0.624687</td>\n",
       "      <td>0.710794</td>\n",
       "      <td>0.000346</td>\n",
       "      <td>8.000000</td>\n",
       "      <td>0.308284</td>\n",
       "      <td>-7.422145</td>\n",
       "      <td>0</td>\n",
       "      <td>0.129284</td>\n",
       "      <td>88.703121</td>\n",
       "      <td>3</td>\n",
       "      <td>0.935571</td>\n",
       "    </tr>\n",
       "  </tbody>\n",
       "</table>\n",
       "</div>"
      ],
      "text/plain": [
       "   song_duration_ms  acousticness  danceability    energy  instrumentalness  \\\n",
       "0     308523.000000      0.019845      0.569817  0.908939          0.001438   \n",
       "1     200011.000000      0.070119      0.731256  0.444655          0.002020   \n",
       "2     279758.000000      0.810637      0.568858  0.125466          0.898841   \n",
       "3     249197.000000      0.280280      0.871789  0.557342          0.000715   \n",
       "4     193165.847572      0.765568      0.624687  0.710794          0.000346   \n",
       "\n",
       "         key  liveness   loudness  audio_mode  speechiness       tempo  \\\n",
       "0   5.042605  0.112832  -8.890172           0     0.082714  126.129304   \n",
       "1  10.000000  0.139040  -6.301214           0     0.061685   86.448149   \n",
       "2   0.000000  0.226614 -11.542478           0     0.041868   99.544351   \n",
       "3   4.000000  0.325391  -7.905546           1     0.046815  123.063854   \n",
       "4   8.000000  0.308284  -7.422145           0     0.129284   88.703121   \n",
       "\n",
       "   time_signature  audio_valence  \n",
       "0               4       0.399620  \n",
       "1               3       0.499424  \n",
       "2               3       0.564951  \n",
       "3               4       0.906485  \n",
       "4               3       0.935571  "
      ]
     },
     "execution_count": 80,
     "metadata": {},
     "output_type": "execute_result"
    }
   ],
   "source": [
    "X1.head()"
   ]
  },
  {
   "cell_type": "code",
   "execution_count": 81,
   "metadata": {},
   "outputs": [],
   "source": [
    "y1 = xgbc.predict(X1)"
   ]
  },
  {
   "cell_type": "code",
   "execution_count": 86,
   "metadata": {},
   "outputs": [
    {
     "data": {
      "text/plain": [
       "array([0, 0, 0, 0, 0, 0, 0, 0, 1, 0], dtype=int64)"
      ]
     },
     "execution_count": 86,
     "metadata": {},
     "output_type": "execute_result"
    }
   ],
   "source": [
    "y1[:10]"
   ]
  },
  {
   "cell_type": "code",
   "execution_count": 87,
   "metadata": {},
   "outputs": [],
   "source": [
    "df_final = pd.DataFrame({'song_popularity': y1})\n",
    "df_final1 = df1.id"
   ]
  },
  {
   "cell_type": "code",
   "execution_count": 88,
   "metadata": {},
   "outputs": [],
   "source": [
    "result = pd.concat([df_final1, df_final], axis=1, ignore_index=True)"
   ]
  },
  {
   "cell_type": "code",
   "execution_count": 89,
   "metadata": {},
   "outputs": [
    {
     "data": {
      "text/html": [
       "<div>\n",
       "<style scoped>\n",
       "    .dataframe tbody tr th:only-of-type {\n",
       "        vertical-align: middle;\n",
       "    }\n",
       "\n",
       "    .dataframe tbody tr th {\n",
       "        vertical-align: top;\n",
       "    }\n",
       "\n",
       "    .dataframe thead th {\n",
       "        text-align: right;\n",
       "    }\n",
       "</style>\n",
       "<table border=\"1\" class=\"dataframe\">\n",
       "  <thead>\n",
       "    <tr style=\"text-align: right;\">\n",
       "      <th></th>\n",
       "      <th>0</th>\n",
       "      <th>1</th>\n",
       "    </tr>\n",
       "  </thead>\n",
       "  <tbody>\n",
       "    <tr>\n",
       "      <th>0</th>\n",
       "      <td>0</td>\n",
       "      <td>0</td>\n",
       "    </tr>\n",
       "    <tr>\n",
       "      <th>1</th>\n",
       "      <td>1</td>\n",
       "      <td>0</td>\n",
       "    </tr>\n",
       "    <tr>\n",
       "      <th>2</th>\n",
       "      <td>2</td>\n",
       "      <td>0</td>\n",
       "    </tr>\n",
       "    <tr>\n",
       "      <th>3</th>\n",
       "      <td>3</td>\n",
       "      <td>0</td>\n",
       "    </tr>\n",
       "    <tr>\n",
       "      <th>4</th>\n",
       "      <td>4</td>\n",
       "      <td>0</td>\n",
       "    </tr>\n",
       "  </tbody>\n",
       "</table>\n",
       "</div>"
      ],
      "text/plain": [
       "   0  1\n",
       "0  0  0\n",
       "1  1  0\n",
       "2  2  0\n",
       "3  3  0\n",
       "4  4  0"
      ]
     },
     "execution_count": 89,
     "metadata": {},
     "output_type": "execute_result"
    }
   ],
   "source": [
    "result.head()"
   ]
  },
  {
   "cell_type": "code",
   "execution_count": 96,
   "metadata": {},
   "outputs": [],
   "source": [
    "df2 = result.rename({'0': 'id', '1': 'song_popularity'}, axis=1)"
   ]
  },
  {
   "cell_type": "code",
   "execution_count": 99,
   "metadata": {},
   "outputs": [],
   "source": [
    "df2.columns = ['id', 'song_popularity']"
   ]
  },
  {
   "cell_type": "code",
   "execution_count": 100,
   "metadata": {},
   "outputs": [
    {
     "data": {
      "text/html": [
       "<div>\n",
       "<style scoped>\n",
       "    .dataframe tbody tr th:only-of-type {\n",
       "        vertical-align: middle;\n",
       "    }\n",
       "\n",
       "    .dataframe tbody tr th {\n",
       "        vertical-align: top;\n",
       "    }\n",
       "\n",
       "    .dataframe thead th {\n",
       "        text-align: right;\n",
       "    }\n",
       "</style>\n",
       "<table border=\"1\" class=\"dataframe\">\n",
       "  <thead>\n",
       "    <tr style=\"text-align: right;\">\n",
       "      <th></th>\n",
       "      <th>id</th>\n",
       "      <th>song_popularity</th>\n",
       "    </tr>\n",
       "  </thead>\n",
       "  <tbody>\n",
       "    <tr>\n",
       "      <th>0</th>\n",
       "      <td>0</td>\n",
       "      <td>0</td>\n",
       "    </tr>\n",
       "    <tr>\n",
       "      <th>1</th>\n",
       "      <td>1</td>\n",
       "      <td>0</td>\n",
       "    </tr>\n",
       "    <tr>\n",
       "      <th>2</th>\n",
       "      <td>2</td>\n",
       "      <td>0</td>\n",
       "    </tr>\n",
       "    <tr>\n",
       "      <th>3</th>\n",
       "      <td>3</td>\n",
       "      <td>0</td>\n",
       "    </tr>\n",
       "    <tr>\n",
       "      <th>4</th>\n",
       "      <td>4</td>\n",
       "      <td>0</td>\n",
       "    </tr>\n",
       "  </tbody>\n",
       "</table>\n",
       "</div>"
      ],
      "text/plain": [
       "   id  song_popularity\n",
       "0   0                0\n",
       "1   1                0\n",
       "2   2                0\n",
       "3   3                0\n",
       "4   4                0"
      ]
     },
     "execution_count": 100,
     "metadata": {},
     "output_type": "execute_result"
    }
   ],
   "source": [
    "df2.head()"
   ]
  },
  {
   "cell_type": "code",
   "execution_count": 101,
   "metadata": {},
   "outputs": [],
   "source": [
    "df2.to_csv('submission.csv')"
   ]
  },
  {
   "cell_type": "markdown",
   "metadata": {},
   "source": [
    "# DTC"
   ]
  },
  {
   "cell_type": "code",
   "execution_count": 102,
   "metadata": {},
   "outputs": [],
   "source": [
    "from sklearn import tree"
   ]
  },
  {
   "cell_type": "code",
   "execution_count": 103,
   "metadata": {},
   "outputs": [],
   "source": [
    "model = tree.DecisionTreeClassifier()"
   ]
  },
  {
   "cell_type": "code",
   "execution_count": 104,
   "metadata": {},
   "outputs": [
    {
     "data": {
      "text/plain": [
       "DecisionTreeClassifier()"
      ]
     },
     "execution_count": 104,
     "metadata": {},
     "output_type": "execute_result"
    }
   ],
   "source": [
    "model.fit(X_train, y_train)"
   ]
  },
  {
   "cell_type": "code",
   "execution_count": 105,
   "metadata": {},
   "outputs": [
    {
     "data": {
      "text/plain": [
       "0.5445"
      ]
     },
     "execution_count": 105,
     "metadata": {},
     "output_type": "execute_result"
    }
   ],
   "source": [
    "model.score(X_test, y_test)"
   ]
  },
  {
   "cell_type": "markdown",
   "metadata": {},
   "source": [
    "# SGD"
   ]
  },
  {
   "cell_type": "code",
   "execution_count": 106,
   "metadata": {},
   "outputs": [],
   "source": [
    "from sklearn.linear_model import SGDClassifier"
   ]
  },
  {
   "cell_type": "code",
   "execution_count": 107,
   "metadata": {},
   "outputs": [],
   "source": [
    "sgd = SGDClassifier()"
   ]
  },
  {
   "cell_type": "code",
   "execution_count": 108,
   "metadata": {},
   "outputs": [
    {
     "data": {
      "text/plain": [
       "SGDClassifier()"
      ]
     },
     "execution_count": 108,
     "metadata": {},
     "output_type": "execute_result"
    }
   ],
   "source": [
    "sgd.fit(X_train, y_train)"
   ]
  },
  {
   "cell_type": "code",
   "execution_count": 109,
   "metadata": {},
   "outputs": [
    {
     "data": {
      "text/plain": [
       "0.36075"
      ]
     },
     "execution_count": 109,
     "metadata": {},
     "output_type": "execute_result"
    }
   ],
   "source": [
    "sgd.score(X_test, y_test)"
   ]
  },
  {
   "cell_type": "markdown",
   "metadata": {},
   "source": [
    "# Linear SVC"
   ]
  },
  {
   "cell_type": "code",
   "execution_count": 126,
   "metadata": {},
   "outputs": [],
   "source": [
    "from sklearn.svm import LinearSVC\n",
    "from sklearn.model_selection import cross_val_score\n",
    "from sklearn.metrics import confusion_matrix\n",
    "from sklearn.metrics import classification_report"
   ]
  },
  {
   "cell_type": "code",
   "execution_count": 127,
   "metadata": {},
   "outputs": [],
   "source": [
    "lsvc = LinearSVC(verbose=0)"
   ]
  },
  {
   "cell_type": "code",
   "execution_count": 128,
   "metadata": {},
   "outputs": [
    {
     "name": "stderr",
     "output_type": "stream",
     "text": [
      "C:\\Users\\anime\\anaconda3\\lib\\site-packages\\sklearn\\svm\\_base.py:976: ConvergenceWarning: Liblinear failed to converge, increase the number of iterations.\n",
      "  warnings.warn(\"Liblinear failed to converge, increase \"\n"
     ]
    }
   ],
   "source": [
    "lsvc.fit(X_train, y_train)\n",
    "score = lsvc.score(X_train, y_train)"
   ]
  },
  {
   "cell_type": "markdown",
   "metadata": {},
   "source": [
    "# K Neighbours "
   ]
  },
  {
   "cell_type": "code",
   "execution_count": 129,
   "metadata": {},
   "outputs": [
    {
     "data": {
      "text/plain": [
       "KNeighborsClassifier(n_neighbors=8)"
      ]
     },
     "execution_count": 129,
     "metadata": {},
     "output_type": "execute_result"
    }
   ],
   "source": [
    "from sklearn.neighbors import KNeighborsClassifier\n",
    "classifier = KNeighborsClassifier(n_neighbors = 8)\n",
    "classifier.fit(X_train, y_train)"
   ]
  },
  {
   "cell_type": "code",
   "execution_count": 130,
   "metadata": {},
   "outputs": [],
   "source": [
    "y_pred = classifier.predict(X_test)"
   ]
  },
  {
   "cell_type": "code",
   "execution_count": 131,
   "metadata": {},
   "outputs": [
    {
     "name": "stdout",
     "output_type": "stream",
     "text": [
      "Confusion Matrix:\n",
      "[[2245  312]\n",
      " [1260  183]]\n",
      "Classification Report:\n",
      "              precision    recall  f1-score   support\n",
      "\n",
      "           0       0.64      0.88      0.74      2557\n",
      "           1       0.37      0.13      0.19      1443\n",
      "\n",
      "    accuracy                           0.61      4000\n",
      "   macro avg       0.51      0.50      0.46      4000\n",
      "weighted avg       0.54      0.61      0.54      4000\n",
      "\n",
      "Accuracy: 0.607\n"
     ]
    }
   ],
   "source": [
    "from sklearn.metrics import classification_report, confusion_matrix, accuracy_score\n",
    "result = confusion_matrix(y_test, y_pred)\n",
    "print(\"Confusion Matrix:\")\n",
    "print(result)\n",
    "result1 = classification_report(y_test, y_pred)\n",
    "print(\"Classification Report:\",)\n",
    "print (result1)\n",
    "result2 = accuracy_score(y_test,y_pred)\n",
    "print(\"Accuracy:\",result2)"
   ]
  },
  {
   "cell_type": "code",
   "execution_count": null,
   "metadata": {},
   "outputs": [],
   "source": []
  }
 ],
 "metadata": {
  "kernelspec": {
   "display_name": "Python 3",
   "language": "python",
   "name": "python3"
  },
  "language_info": {
   "codemirror_mode": {
    "name": "ipython",
    "version": 3
   },
   "file_extension": ".py",
   "mimetype": "text/x-python",
   "name": "python",
   "nbconvert_exporter": "python",
   "pygments_lexer": "ipython3",
   "version": "3.8.3"
  }
 },
 "nbformat": 4,
 "nbformat_minor": 4
}
